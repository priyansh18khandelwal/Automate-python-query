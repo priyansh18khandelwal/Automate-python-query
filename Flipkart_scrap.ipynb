{
 "cells": [
  {
   "cell_type": "code",
   "execution_count": 2,
   "id": "881dd294-1aa1-4bbe-a59f-c49f1693323c",
   "metadata": {},
   "outputs": [
    {
     "name": "stdout",
     "output_type": "stream",
     "text": [
      "Scraping complete. Saved flipkart_products.xlsx\n"
     ]
    }
   ],
   "source": [
    "from bs4 import BeautifulSoup\n",
    "import pandas as pd\n",
    "import openpyxl\n",
    "import smtplib\n",
    "from email.mime.multipart import MIMEMultipart\n",
    "from email.mime.base import MIMEBase\n",
    "from email import encoders\n",
    "import os\n",
    "\n",
    "# Read the HTML file\n",
    "with open('Flipkart.html', 'r', encoding='utf-8') as file:\n",
    "    soup = BeautifulSoup(file, 'html.parser')\n",
    "\n",
    "products = []\n",
    "prices = []\n",
    "\n",
    "# Each product card is inside div[data-id]\n",
    "divs = soup.find_all('div', {'data-id': True})\n",
    "\n",
    "for div in divs:\n",
    "    # --- Product Name ---\n",
    "    title_tag = div.select_one(\"wjcEIp\")  # product link\n",
    "    if not title_tag:\n",
    "        img_tag = div.select_one(\"div._4WELSP img\")\n",
    "        product_name = img_tag['alt'].strip() if img_tag and img_tag.has_attr(\"alt\") else \"\"\n",
    "    else:\n",
    "        product_name = title_tag.get_text(strip=True)\n",
    "\n",
    "    # --- Product Price ---\n",
    "    price_tag = div.select_one(\"div.Nx9bqj\")\n",
    "    product_price = price_tag.get_text(strip=True) if price_tag else \"\"\n",
    "\n",
    "    # ✅ Filter: Only keep items where \"ROSIER\" is in product name\n",
    "    if \"ROSIER\" in product_name.upper():\n",
    "        products.append(product_name)\n",
    "        prices.append(product_price)\n",
    "\n",
    "# DataFrame बनाओ\n",
    "df = pd.DataFrame({\n",
    "    'Product_Name': products,\n",
    "    'Product_Price': prices\n",
    "})\n",
    "\n",
    "df.to_excel('flipkart_products.xlsx', index=False)\n",
    "\n",
    "print(\"Scraping complete. Saved flipkart_products.xlsx\")\n"
   ]
  },
  {
   "cell_type": "code",
   "execution_count": 3,
   "id": "4e1bf30e-a9bf-4311-85ac-5eb876b8951b",
   "metadata": {},
   "outputs": [],
   "source": [
    "# Save to Excel\n",
    "excel_file = 'Flipkart_products.xlsx'\n",
    "workbook = openpyxl.Workbook()\n",
    "sheet = workbook.active\n",
    "sheet.title = \"Rosier Products\""
   ]
  },
  {
   "cell_type": "code",
   "execution_count": 4,
   "id": "6f4bdaf2-cce3-4b03-96a1-d84315fcf6b1",
   "metadata": {},
   "outputs": [],
   "source": [
    "# Email setup\n",
    "email_address = \"Priyanshkhandelwal946215@gmail.com\"\n",
    "password = \"iksg bgeq ylly gyyz\"  # Replace with your app-specific password"
   ]
  },
  {
   "cell_type": "code",
   "execution_count": 5,
   "id": "1ce7eed7-742d-43a3-b60c-c291014163da",
   "metadata": {},
   "outputs": [],
   "source": [
    "# Create email\n",
    "msg = MIMEMultipart()\n",
    "msg['From'] = email_address\n",
    "msg['To'] = email_address\n",
    "msg['Subject'] = 'Flipkart Product Data'"
   ]
  },
  {
   "cell_type": "code",
   "execution_count": 6,
   "id": "f3dc0825-5e44-45e6-acc0-6478591ba2a1",
   "metadata": {},
   "outputs": [],
   "source": [
    "# Attach Excel file\n",
    "with open(excel_file, 'rb') as f:\n",
    "    part = MIMEBase('application', 'octet-stream')\n",
    "    part.set_payload(f.read())\n",
    "part.add_header('Content-Disposition', f'attachment; filename={excel_file}')\n",
    "encoders.encode_base64(part)\n",
    "msg.attach(part)"
   ]
  },
  {
   "cell_type": "code",
   "execution_count": 7,
   "id": "69322ac6-45a4-41d6-a5f2-27cdfe9c3d0f",
   "metadata": {},
   "outputs": [
    {
     "name": "stdout",
     "output_type": "stream",
     "text": [
      "Email sent successfully\n"
     ]
    }
   ],
   "source": [
    "# Send email\n",
    "try:\n",
    "    server = smtplib.SMTP('smtp.gmail.com', 587)\n",
    "    server.starttls()\n",
    "    server.login(email_address, password)\n",
    "    server.sendmail(email_address, email_address, msg.as_string())\n",
    "    server.quit()\n",
    "    print(\"Email sent successfully\")\n",
    "except Exception as e:\n",
    "    print(f\"Error sending email: {e}\")"
   ]
  },
  {
   "cell_type": "code",
   "execution_count": null,
   "id": "a6b540a9-6127-4347-9ad7-dc71705deebd",
   "metadata": {},
   "outputs": [],
   "source": []
  }
 ],
 "metadata": {
  "kernelspec": {
   "display_name": "Python 3 (ipykernel)",
   "language": "python",
   "name": "python3"
  },
  "language_info": {
   "codemirror_mode": {
    "name": "ipython",
    "version": 3
   },
   "file_extension": ".py",
   "mimetype": "text/x-python",
   "name": "python",
   "nbconvert_exporter": "python",
   "pygments_lexer": "ipython3",
   "version": "3.13.1"
  }
 },
 "nbformat": 4,
 "nbformat_minor": 5
}
